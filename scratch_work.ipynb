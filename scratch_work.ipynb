{
 "cells": [
  {
   "cell_type": "code",
   "execution_count": 12,
   "metadata": {},
   "outputs": [],
   "source": [
    "%load_ext autoreload\n",
    "%autoreload 2"
   ]
  },
  {
   "cell_type": "code",
   "execution_count": 109,
   "metadata": {},
   "outputs": [],
   "source": [
    "from boba import boba\n",
    "import boto3"
   ]
  },
  {
   "cell_type": "code",
   "execution_count": 129,
   "metadata": {},
   "outputs": [],
   "source": [
    "b = boba.BobaProjections(year=2020)"
   ]
  },
  {
   "cell_type": "code",
   "execution_count": 130,
   "metadata": {},
   "outputs": [
    {
     "data": {
      "text/plain": [
       "I am a Baseball Projection System!"
      ]
     },
     "execution_count": 130,
     "metadata": {},
     "output_type": "execute_result"
    }
   ],
   "source": []
  },
  {
   "cell_type": "code",
   "execution_count": 118,
   "metadata": {},
   "outputs": [
    {
     "name": "stdout",
     "output_type": "stream",
     "text": [
      "Success\n"
     ]
    }
   ],
   "source": [
    "file = \"/Users/connorvoglewede/git-folder/mlb_player_projections/data/id_map.csv\"\n",
    "\n",
    "\n",
    "b.upload_file(file_name=file)"
   ]
  },
  {
   "cell_type": "code",
   "execution_count": 120,
   "metadata": {},
   "outputs": [
    {
     "name": "stderr",
     "output_type": "stream",
     "text": [
      "100%|██████████| 1/1 [00:00<00:00, 21.23it/s]"
     ]
    },
    {
     "name": "stdout",
     "output_type": "stream",
     "text": [
      "data/hitters/raw/fangraphs/season/2019.csv\n"
     ]
    },
    {
     "name": "stderr",
     "output_type": "stream",
     "text": [
      "\n"
     ]
    },
    {
     "data": {
      "text/html": [
       "<div>\n",
       "<style scoped>\n",
       "    .dataframe tbody tr th:only-of-type {\n",
       "        vertical-align: middle;\n",
       "    }\n",
       "\n",
       "    .dataframe tbody tr th {\n",
       "        vertical-align: top;\n",
       "    }\n",
       "\n",
       "    .dataframe thead th {\n",
       "        text-align: right;\n",
       "    }\n",
       "</style>\n",
       "<table border=\"1\" class=\"dataframe\">\n",
       "  <thead>\n",
       "    <tr style=\"text-align: right;\">\n",
       "      <th></th>\n",
       "      <th>Season</th>\n",
       "      <th>Name</th>\n",
       "      <th>Team</th>\n",
       "      <th>Age</th>\n",
       "      <th>G</th>\n",
       "      <th>AB</th>\n",
       "      <th>PA</th>\n",
       "      <th>H</th>\n",
       "      <th>1B</th>\n",
       "      <th>2B</th>\n",
       "      <th>...</th>\n",
       "      <th>FB%+</th>\n",
       "      <th>HR/FB%+</th>\n",
       "      <th>Pull%+</th>\n",
       "      <th>Cent%+</th>\n",
       "      <th>Oppo%+</th>\n",
       "      <th>Soft%+</th>\n",
       "      <th>Med%+</th>\n",
       "      <th>Hard%+</th>\n",
       "      <th>playerID</th>\n",
       "      <th>position</th>\n",
       "    </tr>\n",
       "  </thead>\n",
       "  <tbody>\n",
       "    <tr>\n",
       "      <th>20</th>\n",
       "      <td>2019.0</td>\n",
       "      <td>Mike Trout</td>\n",
       "      <td>Angels</td>\n",
       "      <td>27.0</td>\n",
       "      <td>134.0</td>\n",
       "      <td>470.0</td>\n",
       "      <td>600.0</td>\n",
       "      <td>137.0</td>\n",
       "      <td>63.0</td>\n",
       "      <td>27.0</td>\n",
       "      <td>...</td>\n",
       "      <td>135.0</td>\n",
       "      <td>169.0</td>\n",
       "      <td>102.0</td>\n",
       "      <td>98.0</td>\n",
       "      <td>98.0</td>\n",
       "      <td>78.0</td>\n",
       "      <td>95.0</td>\n",
       "      <td>116.0</td>\n",
       "      <td>10155</td>\n",
       "      <td>OF</td>\n",
       "    </tr>\n",
       "    <tr>\n",
       "      <th>28</th>\n",
       "      <td>2019.0</td>\n",
       "      <td>Alex Bregman</td>\n",
       "      <td>Astros</td>\n",
       "      <td>25.0</td>\n",
       "      <td>156.0</td>\n",
       "      <td>554.0</td>\n",
       "      <td>690.0</td>\n",
       "      <td>164.0</td>\n",
       "      <td>84.0</td>\n",
       "      <td>37.0</td>\n",
       "      <td>...</td>\n",
       "      <td>126.0</td>\n",
       "      <td>122.0</td>\n",
       "      <td>110.0</td>\n",
       "      <td>107.0</td>\n",
       "      <td>74.0</td>\n",
       "      <td>89.0</td>\n",
       "      <td>89.0</td>\n",
       "      <td>118.0</td>\n",
       "      <td>17678</td>\n",
       "      <td>3B</td>\n",
       "    </tr>\n",
       "    <tr>\n",
       "      <th>19</th>\n",
       "      <td>2019.0</td>\n",
       "      <td>Christian Yelich</td>\n",
       "      <td>Brewers</td>\n",
       "      <td>27.0</td>\n",
       "      <td>130.0</td>\n",
       "      <td>489.0</td>\n",
       "      <td>580.0</td>\n",
       "      <td>161.0</td>\n",
       "      <td>85.0</td>\n",
       "      <td>29.0</td>\n",
       "      <td>...</td>\n",
       "      <td>101.0</td>\n",
       "      <td>212.0</td>\n",
       "      <td>97.0</td>\n",
       "      <td>109.0</td>\n",
       "      <td>93.0</td>\n",
       "      <td>86.0</td>\n",
       "      <td>79.0</td>\n",
       "      <td>130.0</td>\n",
       "      <td>11477</td>\n",
       "      <td>OF</td>\n",
       "    </tr>\n",
       "    <tr>\n",
       "      <th>32</th>\n",
       "      <td>2019.0</td>\n",
       "      <td>Cody Bellinger</td>\n",
       "      <td>Dodgers</td>\n",
       "      <td>23.0</td>\n",
       "      <td>156.0</td>\n",
       "      <td>558.0</td>\n",
       "      <td>660.0</td>\n",
       "      <td>170.0</td>\n",
       "      <td>86.0</td>\n",
       "      <td>34.0</td>\n",
       "      <td>...</td>\n",
       "      <td>119.0</td>\n",
       "      <td>159.0</td>\n",
       "      <td>118.0</td>\n",
       "      <td>94.0</td>\n",
       "      <td>79.0</td>\n",
       "      <td>78.0</td>\n",
       "      <td>85.0</td>\n",
       "      <td>126.0</td>\n",
       "      <td>15998</td>\n",
       "      <td>1B/OF</td>\n",
       "    </tr>\n",
       "    <tr>\n",
       "      <th>83</th>\n",
       "      <td>2019.0</td>\n",
       "      <td>Marcus Semien</td>\n",
       "      <td>Athletics</td>\n",
       "      <td>28.0</td>\n",
       "      <td>162.0</td>\n",
       "      <td>657.0</td>\n",
       "      <td>747.0</td>\n",
       "      <td>187.0</td>\n",
       "      <td>104.0</td>\n",
       "      <td>43.0</td>\n",
       "      <td>...</td>\n",
       "      <td>107.0</td>\n",
       "      <td>100.0</td>\n",
       "      <td>107.0</td>\n",
       "      <td>93.0</td>\n",
       "      <td>99.0</td>\n",
       "      <td>89.0</td>\n",
       "      <td>96.0</td>\n",
       "      <td>110.0</td>\n",
       "      <td>12533</td>\n",
       "      <td>SS</td>\n",
       "    </tr>\n",
       "    <tr>\n",
       "      <th>...</th>\n",
       "      <td>...</td>\n",
       "      <td>...</td>\n",
       "      <td>...</td>\n",
       "      <td>...</td>\n",
       "      <td>...</td>\n",
       "      <td>...</td>\n",
       "      <td>...</td>\n",
       "      <td>...</td>\n",
       "      <td>...</td>\n",
       "      <td>...</td>\n",
       "      <td>...</td>\n",
       "      <td>...</td>\n",
       "      <td>...</td>\n",
       "      <td>...</td>\n",
       "      <td>...</td>\n",
       "      <td>...</td>\n",
       "      <td>...</td>\n",
       "      <td>...</td>\n",
       "      <td>...</td>\n",
       "      <td>...</td>\n",
       "      <td>...</td>\n",
       "    </tr>\n",
       "    <tr>\n",
       "      <th>668</th>\n",
       "      <td>2019.0</td>\n",
       "      <td>Daniel Palka</td>\n",
       "      <td>White Sox</td>\n",
       "      <td>27.0</td>\n",
       "      <td>30.0</td>\n",
       "      <td>84.0</td>\n",
       "      <td>93.0</td>\n",
       "      <td>9.0</td>\n",
       "      <td>7.0</td>\n",
       "      <td>0.0</td>\n",
       "      <td>...</td>\n",
       "      <td>106.0</td>\n",
       "      <td>69.0</td>\n",
       "      <td>99.0</td>\n",
       "      <td>120.0</td>\n",
       "      <td>74.0</td>\n",
       "      <td>171.0</td>\n",
       "      <td>112.0</td>\n",
       "      <td>54.0</td>\n",
       "      <td>14897</td>\n",
       "      <td>DH/OF</td>\n",
       "    </tr>\n",
       "    <tr>\n",
       "      <th>478</th>\n",
       "      <td>2019.0</td>\n",
       "      <td>Curtis Granderson</td>\n",
       "      <td>Marlins</td>\n",
       "      <td>38.0</td>\n",
       "      <td>138.0</td>\n",
       "      <td>317.0</td>\n",
       "      <td>363.0</td>\n",
       "      <td>58.0</td>\n",
       "      <td>28.0</td>\n",
       "      <td>17.0</td>\n",
       "      <td>...</td>\n",
       "      <td>128.0</td>\n",
       "      <td>78.0</td>\n",
       "      <td>114.0</td>\n",
       "      <td>77.0</td>\n",
       "      <td>109.0</td>\n",
       "      <td>62.0</td>\n",
       "      <td>102.0</td>\n",
       "      <td>114.0</td>\n",
       "      <td>4747</td>\n",
       "      <td>OF</td>\n",
       "    </tr>\n",
       "    <tr>\n",
       "      <th>514</th>\n",
       "      <td>2019.0</td>\n",
       "      <td>Elias Diaz</td>\n",
       "      <td>Pirates</td>\n",
       "      <td>28.0</td>\n",
       "      <td>101.0</td>\n",
       "      <td>303.0</td>\n",
       "      <td>332.0</td>\n",
       "      <td>73.0</td>\n",
       "      <td>57.0</td>\n",
       "      <td>14.0</td>\n",
       "      <td>...</td>\n",
       "      <td>88.0</td>\n",
       "      <td>17.0</td>\n",
       "      <td>74.0</td>\n",
       "      <td>103.0</td>\n",
       "      <td>139.0</td>\n",
       "      <td>158.0</td>\n",
       "      <td>95.0</td>\n",
       "      <td>81.0</td>\n",
       "      <td>11680</td>\n",
       "      <td>C</td>\n",
       "    </tr>\n",
       "    <tr>\n",
       "      <th>636</th>\n",
       "      <td>2019.0</td>\n",
       "      <td>Lewis Brinson</td>\n",
       "      <td>Marlins</td>\n",
       "      <td>25.0</td>\n",
       "      <td>75.0</td>\n",
       "      <td>226.0</td>\n",
       "      <td>248.0</td>\n",
       "      <td>39.0</td>\n",
       "      <td>29.0</td>\n",
       "      <td>9.0</td>\n",
       "      <td>...</td>\n",
       "      <td>95.0</td>\n",
       "      <td>0.0</td>\n",
       "      <td>102.0</td>\n",
       "      <td>103.0</td>\n",
       "      <td>93.0</td>\n",
       "      <td>111.0</td>\n",
       "      <td>93.0</td>\n",
       "      <td>103.0</td>\n",
       "      <td>14352</td>\n",
       "      <td>OF</td>\n",
       "    </tr>\n",
       "    <tr>\n",
       "      <th>654</th>\n",
       "      <td>2019.0</td>\n",
       "      <td>Jeff Mathis</td>\n",
       "      <td>Rangers</td>\n",
       "      <td>36.0</td>\n",
       "      <td>88.0</td>\n",
       "      <td>228.0</td>\n",
       "      <td>244.0</td>\n",
       "      <td>36.0</td>\n",
       "      <td>25.0</td>\n",
       "      <td>9.0</td>\n",
       "      <td>...</td>\n",
       "      <td>106.0</td>\n",
       "      <td>24.0</td>\n",
       "      <td>92.0</td>\n",
       "      <td>110.0</td>\n",
       "      <td>100.0</td>\n",
       "      <td>139.0</td>\n",
       "      <td>98.0</td>\n",
       "      <td>85.0</td>\n",
       "      <td>3448</td>\n",
       "      <td>C</td>\n",
       "    </tr>\n",
       "  </tbody>\n",
       "</table>\n",
       "<p>1410 rows × 307 columns</p>\n",
       "</div>"
      ],
      "text/plain": [
       "     Season               Name       Team   Age      G     AB     PA      H  \\\n",
       "20   2019.0         Mike Trout     Angels  27.0  134.0  470.0  600.0  137.0   \n",
       "28   2019.0       Alex Bregman     Astros  25.0  156.0  554.0  690.0  164.0   \n",
       "19   2019.0   Christian Yelich    Brewers  27.0  130.0  489.0  580.0  161.0   \n",
       "32   2019.0     Cody Bellinger    Dodgers  23.0  156.0  558.0  660.0  170.0   \n",
       "83   2019.0      Marcus Semien  Athletics  28.0  162.0  657.0  747.0  187.0   \n",
       "..      ...                ...        ...   ...    ...    ...    ...    ...   \n",
       "668  2019.0       Daniel Palka  White Sox  27.0   30.0   84.0   93.0    9.0   \n",
       "478  2019.0  Curtis Granderson    Marlins  38.0  138.0  317.0  363.0   58.0   \n",
       "514  2019.0         Elias Diaz    Pirates  28.0  101.0  303.0  332.0   73.0   \n",
       "636  2019.0      Lewis Brinson    Marlins  25.0   75.0  226.0  248.0   39.0   \n",
       "654  2019.0        Jeff Mathis    Rangers  36.0   88.0  228.0  244.0   36.0   \n",
       "\n",
       "        1B    2B  ...   FB%+  HR/FB%+  Pull%+  Cent%+  Oppo%+  Soft%+  Med%+  \\\n",
       "20    63.0  27.0  ...  135.0    169.0   102.0    98.0    98.0    78.0   95.0   \n",
       "28    84.0  37.0  ...  126.0    122.0   110.0   107.0    74.0    89.0   89.0   \n",
       "19    85.0  29.0  ...  101.0    212.0    97.0   109.0    93.0    86.0   79.0   \n",
       "32    86.0  34.0  ...  119.0    159.0   118.0    94.0    79.0    78.0   85.0   \n",
       "83   104.0  43.0  ...  107.0    100.0   107.0    93.0    99.0    89.0   96.0   \n",
       "..     ...   ...  ...    ...      ...     ...     ...     ...     ...    ...   \n",
       "668    7.0   0.0  ...  106.0     69.0    99.0   120.0    74.0   171.0  112.0   \n",
       "478   28.0  17.0  ...  128.0     78.0   114.0    77.0   109.0    62.0  102.0   \n",
       "514   57.0  14.0  ...   88.0     17.0    74.0   103.0   139.0   158.0   95.0   \n",
       "636   29.0   9.0  ...   95.0      0.0   102.0   103.0    93.0   111.0   93.0   \n",
       "654   25.0   9.0  ...  106.0     24.0    92.0   110.0   100.0   139.0   98.0   \n",
       "\n",
       "     Hard%+  playerID  position  \n",
       "20    116.0     10155        OF  \n",
       "28    118.0     17678        3B  \n",
       "19    130.0     11477        OF  \n",
       "32    126.0     15998     1B/OF  \n",
       "83    110.0     12533        SS  \n",
       "..      ...       ...       ...  \n",
       "668    54.0     14897     DH/OF  \n",
       "478   114.0      4747        OF  \n",
       "514    81.0     11680         C  \n",
       "636   103.0     14352        OF  \n",
       "654    85.0      3448         C  \n",
       "\n",
       "[1410 rows x 307 columns]"
      ]
     },
     "execution_count": 120,
     "metadata": {},
     "output_type": "execute_result"
    }
   ],
   "source": [
    "df = b.getFangraphs_hitters(season=2019)\n",
    "df"
   ]
  },
  {
   "cell_type": "code",
   "execution_count": 147,
   "metadata": {},
   "outputs": [
    {
     "name": "stderr",
     "output_type": "stream",
     "text": [
      "100%|██████████| 1/1 [00:00<00:00, 16.65it/s]"
     ]
    },
    {
     "name": "stdout",
     "output_type": "stream",
     "text": [
      "data/hitters/raw/fangraphs/season/2019.csv\n"
     ]
    },
    {
     "name": "stderr",
     "output_type": "stream",
     "text": [
      "\n"
     ]
    }
   ],
   "source": [
    "df2 = b.gather_FG_hitters()"
   ]
  },
  {
   "cell_type": "code",
   "execution_count": 151,
   "metadata": {},
   "outputs": [
    {
     "name": "stdout",
     "output_type": "stream",
     "text": [
      "Success\n"
     ]
    }
   ],
   "source": [
    "b.upload_file('data/hitters/interim/fangraphs/master_fg.csv')"
   ]
  },
  {
   "cell_type": "code",
   "execution_count": 64,
   "metadata": {},
   "outputs": [
    {
     "name": "stdout",
     "output_type": "stream",
     "text": [
      "  boba-voglewede\n"
     ]
    }
   ],
   "source": [
    "response = s3.list_buckets()\n",
    "for bucket in response['Buckets']:\n",
    "    print(f'  {bucket[\"Name\"]}')"
   ]
  },
  {
   "cell_type": "code",
   "execution_count": 90,
   "metadata": {},
   "outputs": [
    {
     "data": {
      "text/plain": [
       "{'Key': 'utils/id_map.csv',\n",
       " 'LastModified': datetime.datetime(2020, 4, 25, 1, 37, 45, tzinfo=tzutc()),\n",
       " 'ETag': '\"290269399e7c809a2806433b78fc9e94\"',\n",
       " 'Size': 903033,\n",
       " 'StorageClass': 'STANDARD'}"
      ]
     },
     "execution_count": 90,
     "metadata": {},
     "output_type": "execute_result"
    }
   ],
   "source": [
    "listings = s3.list_objects_v2(Bucket= 'boba-voglewede')\n",
    "listings['Contents'][4]\n",
    "# for my_bucket_object in my_bucket.objects.all():\n",
    "#     print(my_bucket_object)\n"
   ]
  },
  {
   "cell_type": "code",
   "execution_count": 36,
   "metadata": {},
   "outputs": [
    {
     "data": {
      "text/plain": [
       "{'ResponseMetadata': {'RequestId': '4881530859574877',\n",
       "  'HostId': '9UOCyiEkzPrSUUO8UKuutMYcJtfuOHKWAZLiAAyOmlPRrNefr0tcu8ZRWel2PCAhSU7gfrFHQZE=',\n",
       "  'HTTPStatusCode': 200,\n",
       "  'HTTPHeaders': {'x-amz-id-2': '9UOCyiEkzPrSUUO8UKuutMYcJtfuOHKWAZLiAAyOmlPRrNefr0tcu8ZRWel2PCAhSU7gfrFHQZE=',\n",
       "   'x-amz-request-id': '4881530859574877',\n",
       "   'date': 'Sat, 25 Apr 2020 00:57:54 GMT',\n",
       "   'content-type': 'application/xml',\n",
       "   'transfer-encoding': 'chunked',\n",
       "   'server': 'AmazonS3'},\n",
       "  'RetryAttempts': 0},\n",
       " 'Buckets': [{'Name': 'boba-voglewede',\n",
       "   'CreationDate': datetime.datetime(2020, 4, 24, 13, 35, 47, tzinfo=tzutc())}],\n",
       " 'Owner': {'DisplayName': 'cvoglewede8',\n",
       "  'ID': '1637f326790991f149afc60b52b4462793396f5806bf17069ab75b052ad55350'}}"
      ]
     },
     "execution_count": 36,
     "metadata": {},
     "output_type": "execute_result"
    }
   ],
   "source": []
  },
  {
   "cell_type": "code",
   "execution_count": null,
   "metadata": {},
   "outputs": [],
   "source": []
  }
 ],
 "metadata": {
  "kernelspec": {
   "display_name": "Python 3",
   "language": "python",
   "name": "python3"
  },
  "language_info": {
   "codemirror_mode": {
    "name": "ipython",
    "version": 3
   },
   "file_extension": ".py",
   "mimetype": "text/x-python",
   "name": "python",
   "nbconvert_exporter": "python",
   "pygments_lexer": "ipython3",
   "version": "3.7.4"
  }
 },
 "nbformat": 4,
 "nbformat_minor": 4
}
