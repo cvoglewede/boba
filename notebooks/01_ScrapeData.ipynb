{
 "cells": [
  {
   "cell_type": "markdown",
   "metadata": {},
   "source": [
    "## Packages"
   ]
  },
  {
   "cell_type": "code",
   "execution_count": 4,
   "metadata": {
    "execution": {
     "iopub.execute_input": "2021-02-23T02:34:08.716701Z",
     "iopub.status.busy": "2021-02-23T02:34:08.716466Z",
     "iopub.status.idle": "2021-02-23T02:34:08.748707Z",
     "shell.execute_reply": "2021-02-23T02:34:08.748070Z",
     "shell.execute_reply.started": "2021-02-23T02:34:08.716674Z"
    }
   },
   "outputs": [],
   "source": [
    "%load_ext autoreload\n",
    "%autoreload 2"
   ]
  },
  {
   "cell_type": "code",
   "execution_count": 5,
   "metadata": {
    "execution": {
     "iopub.execute_input": "2021-02-23T02:34:09.113799Z",
     "iopub.status.busy": "2021-02-23T02:34:09.113563Z",
     "iopub.status.idle": "2021-02-23T02:34:09.141081Z",
     "shell.execute_reply": "2021-02-23T02:34:09.140216Z",
     "shell.execute_reply.started": "2021-02-23T02:34:09.113772Z"
    }
   },
   "outputs": [],
   "source": [
    "import os\n",
    "os.chdir('/Users/connorvoglewede/git-folder/boba')"
   ]
  },
  {
   "cell_type": "code",
   "execution_count": 195,
   "metadata": {
    "execution": {
     "iopub.execute_input": "2021-03-03T04:31:55.669562Z",
     "iopub.status.busy": "2021-03-03T04:31:55.669311Z",
     "iopub.status.idle": "2021-03-03T04:31:55.849975Z",
     "shell.execute_reply": "2021-03-03T04:31:55.849421Z",
     "shell.execute_reply.started": "2021-03-03T04:31:55.669534Z"
    }
   },
   "outputs": [],
   "source": [
    "import pandas as pd\n",
    "import logging\n",
    "import numpy as np\n",
    "from bs4 import BeautifulSoup\n",
    "import requests\n",
    "import io\n",
    "import re\n",
    "from lxml import html \n",
    "from tqdm import tqdm\n",
    "import json\n",
    "import warnings \n",
    "import boba.scrapers as boba\n",
    "import boba.preprocessing as pp\n",
    "\n",
    "\n",
    "warnings.filterwarnings(\"ignore\")\n"
   ]
  },
  {
   "cell_type": "markdown",
   "metadata": {},
   "source": [
    "## Parameters"
   ]
  },
  {
   "cell_type": "code",
   "execution_count": 7,
   "metadata": {
    "execution": {
     "iopub.execute_input": "2021-02-23T02:34:12.882415Z",
     "iopub.status.busy": "2021-02-23T02:34:12.882157Z",
     "iopub.status.idle": "2021-02-23T02:34:12.911253Z",
     "shell.execute_reply": "2021-02-23T02:34:12.910325Z",
     "shell.execute_reply.started": "2021-02-23T02:34:12.882385Z"
    }
   },
   "outputs": [],
   "source": [
    "season = 2020"
   ]
  },
  {
   "cell_type": "markdown",
   "metadata": {
    "execution": {
     "iopub.execute_input": "2021-02-16T02:45:17.544991Z",
     "iopub.status.busy": "2021-02-16T02:45:17.544730Z",
     "iopub.status.idle": "2021-02-16T02:45:17.547971Z",
     "shell.execute_reply": "2021-02-16T02:45:17.547164Z",
     "shell.execute_reply.started": "2021-02-16T02:45:17.544961Z"
    }
   },
   "source": [
    "## Fangraphs"
   ]
  },
  {
   "cell_type": "markdown",
   "metadata": {
    "execution": {
     "iopub.execute_input": "2021-02-16T03:34:24.023908Z",
     "iopub.status.busy": "2021-02-16T03:34:24.023677Z",
     "iopub.status.idle": "2021-02-16T03:34:24.065282Z",
     "shell.execute_reply": "2021-02-16T03:34:24.064590Z",
     "shell.execute_reply.started": "2021-02-16T03:34:24.023882Z"
    }
   },
   "source": [
    "#### Hitters"
   ]
  },
  {
   "cell_type": "code",
   "execution_count": 50,
   "metadata": {
    "execution": {
     "iopub.execute_input": "2021-02-23T03:08:40.628150Z",
     "iopub.status.busy": "2021-02-23T03:08:40.627883Z",
     "iopub.status.idle": "2021-02-23T03:08:40.655625Z",
     "shell.execute_reply": "2021-02-23T03:08:40.654804Z",
     "shell.execute_reply.started": "2021-02-23T03:08:40.628122Z"
    }
   },
   "outputs": [],
   "source": [
    "# hitters_df = boba.fangraphs_h_season(season=2020)\n",
    "# seasons = list(np.arange(1993,2015,1))\n",
    "# path = 'data/raw/hitters/fangraphs/season/'\n",
    "# for x in tqdm(seasons):\n",
    "#     df = boba.fangraphs_h_season(season=x)\n",
    "#     df.to_csv(path+str(x)+'.csv')"
   ]
  },
  {
   "cell_type": "code",
   "execution_count": 120,
   "metadata": {
    "execution": {
     "iopub.execute_input": "2021-02-16T03:40:21.094512Z",
     "iopub.status.busy": "2021-02-16T03:40:21.094321Z",
     "iopub.status.idle": "2021-02-16T03:40:21.126714Z",
     "shell.execute_reply": "2021-02-16T03:40:21.126113Z",
     "shell.execute_reply.started": "2021-02-16T03:40:21.094490Z"
    }
   },
   "outputs": [],
   "source": [
    "# test = pd.read_csv('../data/raw/hitters/fangraphs/season/2017.csv',index_col=0)\n",
    "# test"
   ]
  },
  {
   "cell_type": "markdown",
   "metadata": {},
   "source": [
    "#### Pitchers"
   ]
  },
  {
   "cell_type": "code",
   "execution_count": 119,
   "metadata": {
    "execution": {
     "iopub.execute_input": "2021-02-24T03:42:51.285143Z",
     "iopub.status.busy": "2021-02-24T03:42:51.284947Z",
     "iopub.status.idle": "2021-02-24T03:42:51.310874Z",
     "shell.execute_reply": "2021-02-24T03:42:51.309726Z",
     "shell.execute_reply.started": "2021-02-24T03:42:51.285120Z"
    }
   },
   "outputs": [],
   "source": [
    "# pitcher_df = boba.fangraphs_p_season(season=2020)\n",
    "# seasons = list(np.arange(1993,2021,1))\n",
    "# path = 'data/raw/pitchers/fangraphs/season/'\n",
    "# for x in tqdm(seasons):\n",
    "#     df = boba.fangraphs_p_season(season=x)\n",
    "#     df.to_csv(path+str(x)+'.csv')"
   ]
  },
  {
   "cell_type": "code",
   "execution_count": 123,
   "metadata": {
    "execution": {
     "iopub.execute_input": "2021-02-16T03:40:27.781530Z",
     "iopub.status.busy": "2021-02-16T03:40:27.781338Z",
     "iopub.status.idle": "2021-02-16T03:40:27.814658Z",
     "shell.execute_reply": "2021-02-16T03:40:27.814056Z",
     "shell.execute_reply.started": "2021-02-16T03:40:27.781508Z"
    }
   },
   "outputs": [],
   "source": [
    "# test = pd.read_csv('../data/raw/pitchers/fangraphs/season/2017.csv',index_col=0)\n",
    "# test"
   ]
  },
  {
   "cell_type": "markdown",
   "metadata": {},
   "source": [
    "## Statcast"
   ]
  },
  {
   "cell_type": "markdown",
   "metadata": {},
   "source": [
    "#### Hitters"
   ]
  },
  {
   "cell_type": "code",
   "execution_count": 105,
   "metadata": {
    "execution": {
     "iopub.execute_input": "2021-02-24T03:33:09.561920Z",
     "iopub.status.busy": "2021-02-24T03:33:09.561686Z",
     "iopub.status.idle": "2021-02-24T03:33:09.589934Z",
     "shell.execute_reply": "2021-02-24T03:33:09.589120Z",
     "shell.execute_reply.started": "2021-02-24T03:33:09.561892Z"
    }
   },
   "outputs": [],
   "source": [
    "# hitters_df = boba.statcast_h_season(2020)\n",
    "# path = 'data/raw/hitters/statcast/season/'\n",
    "# hitters_df.to_csv(path+str(2020)+'.csv')\n",
    "# seasons = list(np.arange(2015,2021,1))\n",
    "# for x in tqdm(seasons):\n",
    "#     df = boba.statcast_h_season(season=x)\n",
    "#     df.to_csv(path+str(x)+'.csv')\n"
   ]
  },
  {
   "cell_type": "markdown",
   "metadata": {},
   "source": [
    "#### Pitchers"
   ]
  },
  {
   "cell_type": "code",
   "execution_count": 115,
   "metadata": {
    "execution": {
     "iopub.execute_input": "2021-02-24T03:37:05.829695Z",
     "iopub.status.busy": "2021-02-24T03:37:05.829455Z",
     "iopub.status.idle": "2021-02-24T03:37:05.912732Z",
     "shell.execute_reply": "2021-02-24T03:37:05.912017Z",
     "shell.execute_reply.started": "2021-02-24T03:37:05.829666Z"
    }
   },
   "outputs": [],
   "source": [
    "# pitcher_df = boba.statcast_p_season(2020)\n",
    "# path = 'data/raw/pitchers/statcast/season/'\n",
    "# pitcher_df.to_csv(path+str(2020)+'.csv')\n",
    "# pitcher_df\n",
    "# seasons = list(np.arange(2015,2021,1))\n",
    "# for x in tqdm(seasons):\n",
    "#     df = boba.statcast_p_season(season=x)\n",
    "#     df.to_csv(path+str(x)+'.csv')"
   ]
  },
  {
   "cell_type": "markdown",
   "metadata": {},
   "source": [
    "## Gather Sources"
   ]
  },
  {
   "cell_type": "code",
   "execution_count": 124,
   "metadata": {
    "execution": {
     "iopub.execute_input": "2021-02-24T03:43:29.263034Z",
     "iopub.status.busy": "2021-02-24T03:43:29.262792Z",
     "iopub.status.idle": "2021-02-24T03:43:29.291139Z",
     "shell.execute_reply": "2021-02-24T03:43:29.290335Z",
     "shell.execute_reply.started": "2021-02-24T03:43:29.263006Z"
    }
   },
   "outputs": [],
   "source": [
    "# fg_h = boba.gather_season_data(position_group='hitters',source = 'fangraphs',start_season=1993, end_season=2021)\n",
    "# sc_h = boba.gather_season_data(position_group='hitters',source = 'statcast', start_season=2015, end_season=2021)\n",
    "\n",
    "# fg_p = boba.gather_season_data(position_group='pitchers',source = 'fangraphs',start_season=1993, end_season=2021)\n",
    "# sc_p = boba.gather_season_data(position_group='pitchers',source = 'statcast', start_season=2015, end_season=2021)"
   ]
  },
  {
   "cell_type": "markdown",
   "metadata": {},
   "source": [
    "## Gather Projection System Historical Data"
   ]
  },
  {
   "cell_type": "code",
   "execution_count": 238,
   "metadata": {
    "execution": {
     "iopub.execute_input": "2021-03-03T05:03:04.842131Z",
     "iopub.status.busy": "2021-03-03T05:03:04.841939Z",
     "iopub.status.idle": "2021-03-03T05:03:05.597208Z",
     "shell.execute_reply": "2021-03-03T05:03:05.596479Z",
     "shell.execute_reply.started": "2021-03-03T05:03:04.842109Z"
    }
   },
   "outputs": [],
   "source": [
    "position_group='hitters'\n",
    "start_season = 2019\n",
    "end_season = 2021\n",
    "systems = ['atc','zips','thebat','steamer']\n",
    "# systems = ['steamer']\n",
    "cols = ['Name','Team','playerid','PA','AVG','OBP','SLG','R','RBI','HR','SB','CS']\n",
    "\n",
    "base_path = 'data/raw/'+position_group+'/projection_systems/'\n",
    "seasons_list = list(np.arange(start_season,end_season+1,1))\n",
    "data = pd.DataFrame(columns = cols) \n",
    "for sys in systems:\n",
    "    for x in seasons_list:\n",
    "        path = base_path+sys+'/'+str(x)+'.csv'\n",
    "        try:\n",
    "            df = pd.read_csv(path)\n",
    "            df = df[cols]\n",
    "            df['season'] = int(x)\n",
    "            df['system'] = sys\n",
    "            data = data.append(df)\n",
    "        except:\n",
    "            pass\n",
    "\n",
    "\n",
    "stmr_hist_cols = ['MLBAM','PA','AVG','OBP','SLG']\n",
    "stmr_hist = pd.DataFrame(columns = stmr_hist_cols)\n",
    "for x in list(np.arange(2010,2012,1)):\n",
    "    path = base_path+'steamer'+'/'+str(x)+'.csv'\n",
    "    df = pd.read_csv(path)\n",
    "    df = df[stmr_hist_cols]\n",
    "    df['season'] = int(x)\n",
    "    df['system'] = 'steamer'\n",
    "    stmr_hist = stmr_hist.append(df)\n",
    "\n",
    "for x in list(np.arange(2012,2019,1)):\n",
    "    path = base_path+'steamer'+'/'+str(x)+'.csv'\n",
    "    df = pd.read_csv(path)\n",
    "    df = df[['mlbamid','PA','AVG','OBP','SLG']]\n",
    "    df = df.rename(columns = {'mlbamid':'MLBAM'})\n",
    "    df['season'] = int(x)\n",
    "    df['system'] = 'steamer'\n",
    "    stmr_hist = stmr_hist.append(df)\n",
    "stmr_hist = stmr_hist[['system'] + ['season'] + stmr_hist_cols]\n",
    "\n",
    "id_map = pp.load_ID_map(2021)\n",
    "\n",
    "\n",
    "stmr_hist_id = pd.merge(stmr_hist,id_map,left_on = 'MLBAM',right_on = 'MLBID')\n",
    "stmr_hist_id = stmr_hist_id.rename(columns = {'IDFANGRAPHS':'playerid'})\n",
    "stmr_hist_id = stmr_hist_id[['system','season','playerid','PA','AVG','OBP','SLG']]\n",
    "\n",
    "data = data.append(stmr_hist_id)\n",
    "data = data[['system'] + ['season'] + cols] \n",
    "data['NetSB'] = data['SB']-data['CS']\n",
    "data.to_csv(base_path+'master.csv')"
   ]
  },
  {
   "cell_type": "code",
   "execution_count": 234,
   "metadata": {
    "execution": {
     "iopub.execute_input": "2021-03-03T04:50:38.393670Z",
     "iopub.status.busy": "2021-03-03T04:50:38.393479Z",
     "iopub.status.idle": "2021-03-03T04:50:39.051063Z",
     "shell.execute_reply": "2021-03-03T04:50:39.050460Z",
     "shell.execute_reply.started": "2021-03-03T04:50:38.393649Z"
    }
   },
   "outputs": [],
   "source": [
    "position_group='pitchers'\n",
    "start_season = 2019\n",
    "end_season = 2021\n",
    "systems = ['atc','zips','thebat','steamer']\n",
    "# systems = ['steamer']\n",
    "cols = ['Name','Team','playerid','IP','ERA']\n",
    "\n",
    "base_path = 'data/raw/'+position_group+'/projection_systems/'\n",
    "seasons_list = list(np.arange(start_season,end_season+1,1))\n",
    "data = pd.DataFrame(columns = cols) \n",
    "for sys in systems:\n",
    "    for x in seasons_list:\n",
    "        path = base_path+sys+'/'+str(x)+'.csv'\n",
    "        try:\n",
    "            df = pd.read_csv(path)\n",
    "            df = df[cols]\n",
    "            df['season'] = int(x)\n",
    "            df['system'] = sys\n",
    "            data = data.append(df)\n",
    "        except:\n",
    "            pass\n",
    "\n",
    "\n",
    "stmr_hist_cols = ['MLBAM','IP','ERA']\n",
    "stmr_hist = pd.DataFrame(columns = stmr_hist_cols)\n",
    "for x in list(np.arange(2010,2013,1)):\n",
    "    path = base_path+'steamer'+'/'+str(x)+'.csv'\n",
    "    df = pd.read_csv(path)\n",
    "    df = df[stmr_hist_cols]\n",
    "    df['season'] = int(x)\n",
    "    df['system'] = 'steamer'\n",
    "    stmr_hist = stmr_hist.append(df)\n",
    "\n",
    "for x in list(np.arange(2013,2019,1)):\n",
    "    path = base_path+'steamer'+'/'+str(x)+'.csv'\n",
    "    df = pd.read_csv(path)\n",
    "    df = df[['mlbamid','IP','ERA']]\n",
    "    df = df.rename(columns = {'mlbamid':'MLBAM'})\n",
    "    df['season'] = int(x)\n",
    "    df['system'] = 'steamer'\n",
    "    stmr_hist = stmr_hist.append(df)\n",
    "stmr_hist = stmr_hist[['system'] + ['season'] + stmr_hist_cols]\n",
    "\n",
    "id_map = pp.load_ID_map(2021)\n",
    "\n",
    "\n",
    "stmr_hist_id = pd.merge(stmr_hist,id_map,left_on = 'MLBAM',right_on = 'MLBID')\n",
    "stmr_hist_id = stmr_hist_id.rename(columns = {'IDFANGRAPHS':'playerid'})\n",
    "stmr_hist_id = stmr_hist_id[['system','season','playerid','IP','ERA']]\n",
    "\n",
    "data = data.append(stmr_hist_id)\n",
    "data = data[['system'] + ['season'] + cols]     \n",
    "data.to_csv(base_path+'master.csv')\n"
   ]
  },
  {
   "cell_type": "code",
   "execution_count": null,
   "metadata": {},
   "outputs": [],
   "source": []
  },
  {
   "cell_type": "code",
   "execution_count": null,
   "metadata": {},
   "outputs": [],
   "source": []
  }
 ],
 "metadata": {
  "kernelspec": {
   "display_name": "Python 3",
   "language": "python",
   "name": "python3"
  },
  "language_info": {
   "codemirror_mode": {
    "name": "ipython",
    "version": 3
   },
   "file_extension": ".py",
   "mimetype": "text/x-python",
   "name": "python",
   "nbconvert_exporter": "python",
   "pygments_lexer": "ipython3",
   "version": "3.7.7"
  }
 },
 "nbformat": 4,
 "nbformat_minor": 4
}
