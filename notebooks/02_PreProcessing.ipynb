{
 "cells": [
  {
   "cell_type": "code",
   "execution_count": 38,
   "metadata": {
    "execution": {
     "iopub.execute_input": "2021-02-23T02:18:33.981914Z",
     "iopub.status.busy": "2021-02-23T02:18:33.981643Z",
     "iopub.status.idle": "2021-02-23T02:18:34.040129Z",
     "shell.execute_reply": "2021-02-23T02:18:34.039022Z",
     "shell.execute_reply.started": "2021-02-23T02:18:33.981886Z"
    }
   },
   "outputs": [
    {
     "name": "stdout",
     "output_type": "stream",
     "text": [
      "The autoreload extension is already loaded. To reload it, use:\n",
      "  %reload_ext autoreload\n"
     ]
    }
   ],
   "source": [
    "%load_ext autoreload\n",
    "%autoreload 2"
   ]
  },
  {
   "cell_type": "code",
   "execution_count": 20,
   "metadata": {
    "execution": {
     "iopub.execute_input": "2021-02-23T02:14:20.604017Z",
     "iopub.status.busy": "2021-02-23T02:14:20.603742Z",
     "iopub.status.idle": "2021-02-23T02:14:20.633614Z",
     "shell.execute_reply": "2021-02-23T02:14:20.632719Z",
     "shell.execute_reply.started": "2021-02-23T02:14:20.603985Z"
    }
   },
   "outputs": [],
   "source": [
    "import os\n",
    "os.chdir('/Users/connorvoglewede/git-folder/boba')"
   ]
  },
  {
   "cell_type": "code",
   "execution_count": 77,
   "metadata": {
    "execution": {
     "iopub.execute_input": "2021-02-24T04:24:38.141895Z",
     "iopub.status.busy": "2021-02-24T04:24:38.141646Z",
     "iopub.status.idle": "2021-02-24T04:24:38.482815Z",
     "shell.execute_reply": "2021-02-24T04:24:38.482119Z",
     "shell.execute_reply.started": "2021-02-24T04:24:38.141868Z"
    }
   },
   "outputs": [],
   "source": [
    "import pandas as pd\n",
    "import logging\n",
    "import numpy as np\n",
    "from bs4 import BeautifulSoup\n",
    "import requests\n",
    "import io\n",
    "import re\n",
    "from lxml import html \n",
    "from tqdm import tqdm\n",
    "import json\n",
    "import warnings \n",
    "import yaml\n",
    "import boba.preprocessing as pp\n",
    "warnings.filterwarnings(\"ignore\")\n"
   ]
  },
  {
   "cell_type": "code",
   "execution_count": 261,
   "metadata": {
    "execution": {
     "iopub.execute_input": "2021-02-25T02:35:06.682857Z",
     "iopub.status.busy": "2021-02-25T02:35:06.682626Z",
     "iopub.status.idle": "2021-02-25T02:35:06.714179Z",
     "shell.execute_reply": "2021-02-25T02:35:06.713461Z",
     "shell.execute_reply.started": "2021-02-25T02:35:06.682831Z"
    }
   },
   "outputs": [],
   "source": [
    "pd.set_option('max_rows',50)\n",
    "pd.set_option('max_columns',400)"
   ]
  },
  {
   "cell_type": "code",
   "execution_count": 313,
   "metadata": {
    "execution": {
     "iopub.execute_input": "2021-03-03T04:41:20.101347Z",
     "iopub.status.busy": "2021-03-03T04:41:20.093713Z",
     "iopub.status.idle": "2021-03-03T04:41:20.647515Z",
     "shell.execute_reply": "2021-03-03T04:41:20.645765Z",
     "shell.execute_reply.started": "2021-03-03T04:41:20.100794Z"
    }
   },
   "outputs": [],
   "source": [
    "season = 2021\n",
    "\n",
    "per_metric_h = 'PA' \n",
    "pt_metric_h = 'PA'      \n",
    "counting_stats_h = ['HR','R','RBI','WAR','SB','CS']\n",
    "rate_stats_h = ['AVG','OBP','SLG','BABIP','BB%','K%','wOBA']\n",
    "model_targets_h = rate_stats_h + [c+'_per_'+per_metric_h for c in counting_stats_h]  \n",
    "\n",
    "per_metric_sp = 'GS' \n",
    "pt_metric_sp = 'IP'      \n",
    "counting_stats_sp = ['ShO','CG','W','WAR']\n",
    "rate_stats_sp = ['ERA','BB_per_9','K_per_9','OBP','SLG']\n",
    "model_targets_sp = rate_stats_sp + [c+'_per_'+per_metric_sp for c in counting_stats_sp]  \n",
    "\n",
    "per_metric_rp = 'G' \n",
    "pt_metric_rp = 'IP'      \n",
    "counting_stats_rp = ['SV','HLD','WAR']\n",
    "rate_stats_rp = ['ERA','BB_per_9','K_per_9','OBP','SLG']\n",
    "model_targets_rp = rate_stats_rp + [c+'_per_'+per_metric_rp for c in counting_stats_rp] \n"
   ]
  },
  {
   "cell_type": "code",
   "execution_count": 314,
   "metadata": {
    "execution": {
     "iopub.execute_input": "2021-03-03T04:41:20.652588Z",
     "iopub.status.busy": "2021-03-03T04:41:20.652391Z",
     "iopub.status.idle": "2021-03-03T04:41:21.072974Z",
     "shell.execute_reply": "2021-03-03T04:41:21.070497Z",
     "shell.execute_reply.started": "2021-03-03T04:41:20.652567Z"
    }
   },
   "outputs": [],
   "source": [
    "id_map = pp.load_ID_map(season)\n",
    "fantrax = pd.read_csv('data/utils/'+str(season)+'/fantrax.csv')"
   ]
  },
  {
   "cell_type": "code",
   "execution_count": 342,
   "metadata": {
    "execution": {
     "iopub.execute_input": "2021-03-03T05:03:12.787152Z",
     "iopub.status.busy": "2021-03-03T05:03:12.786908Z",
     "iopub.status.idle": "2021-03-03T05:03:16.276011Z",
     "shell.execute_reply": "2021-03-03T05:03:16.275253Z",
     "shell.execute_reply.started": "2021-03-03T05:03:12.787125Z"
    }
   },
   "outputs": [],
   "source": [
    "fg_h,statcast_h,proj_sys_h = pp.load_raw_dataframes(position_group = 'hitters',season = 2021)\n",
    "fg_p,statcast_p,proj_sys_p = pp.load_raw_dataframes(position_group = 'pitchers',season = 2021)"
   ]
  },
  {
   "cell_type": "code",
   "execution_count": 381,
   "metadata": {
    "execution": {
     "iopub.execute_input": "2021-03-03T05:15:10.284850Z",
     "iopub.status.busy": "2021-03-03T05:15:10.284656Z",
     "iopub.status.idle": "2021-03-03T05:15:10.505710Z",
     "shell.execute_reply": "2021-03-03T05:15:10.505084Z",
     "shell.execute_reply.started": "2021-03-03T05:15:10.284828Z"
    }
   },
   "outputs": [
    {
     "data": {
      "text/html": [
       "<div>\n",
       "<style scoped>\n",
       "    .dataframe tbody tr th:only-of-type {\n",
       "        vertical-align: middle;\n",
       "    }\n",
       "\n",
       "    .dataframe tbody tr th {\n",
       "        vertical-align: top;\n",
       "    }\n",
       "\n",
       "    .dataframe thead th {\n",
       "        text-align: right;\n",
       "    }\n",
       "</style>\n",
       "<table border=\"1\" class=\"dataframe\">\n",
       "  <thead>\n",
       "    <tr style=\"text-align: right;\">\n",
       "      <th></th>\n",
       "      <th>season</th>\n",
       "      <th>Name</th>\n",
       "      <th>Team</th>\n",
       "      <th>playerid</th>\n",
       "      <th>HR</th>\n",
       "      <th>NetSB</th>\n",
       "      <th>OBP</th>\n",
       "      <th>PA</th>\n",
       "      <th>R</th>\n",
       "      <th>RBI</th>\n",
       "      <th>SLG</th>\n",
       "    </tr>\n",
       "  </thead>\n",
       "  <tbody>\n",
       "    <tr>\n",
       "      <th>0</th>\n",
       "      <td>2019.0</td>\n",
       "      <td>A.J. Kennedy</td>\n",
       "      <td>Padres</td>\n",
       "      <td>sa876029</td>\n",
       "      <td>0.00</td>\n",
       "      <td>0.00</td>\n",
       "      <td>0.219000</td>\n",
       "      <td>1.000000</td>\n",
       "      <td>0.000000</td>\n",
       "      <td>0.000000</td>\n",
       "      <td>0.263000</td>\n",
       "    </tr>\n",
       "    <tr>\n",
       "      <th>1</th>\n",
       "      <td>2019.0</td>\n",
       "      <td>A.J. Pollock</td>\n",
       "      <td>Dodgers</td>\n",
       "      <td>9256</td>\n",
       "      <td>20.50</td>\n",
       "      <td>12.25</td>\n",
       "      <td>0.324250</td>\n",
       "      <td>543.500000</td>\n",
       "      <td>75.750000</td>\n",
       "      <td>67.500000</td>\n",
       "      <td>0.459250</td>\n",
       "    </tr>\n",
       "    <tr>\n",
       "      <th>2</th>\n",
       "      <td>2019.0</td>\n",
       "      <td>A.J. Reed</td>\n",
       "      <td>Astros</td>\n",
       "      <td>16246</td>\n",
       "      <td>8.25</td>\n",
       "      <td>0.00</td>\n",
       "      <td>0.297750</td>\n",
       "      <td>176.500000</td>\n",
       "      <td>22.000000</td>\n",
       "      <td>26.000000</td>\n",
       "      <td>0.419000</td>\n",
       "    </tr>\n",
       "    <tr>\n",
       "      <th>3</th>\n",
       "      <td>2019.0</td>\n",
       "      <td>A.J. Simcox</td>\n",
       "      <td>Tigers</td>\n",
       "      <td>sa658901</td>\n",
       "      <td>0.00</td>\n",
       "      <td>0.00</td>\n",
       "      <td>0.270000</td>\n",
       "      <td>1.000000</td>\n",
       "      <td>0.000000</td>\n",
       "      <td>0.000000</td>\n",
       "      <td>0.328000</td>\n",
       "    </tr>\n",
       "    <tr>\n",
       "      <th>4</th>\n",
       "      <td>2019.0</td>\n",
       "      <td>AJ Graffanino</td>\n",
       "      <td>Braves</td>\n",
       "      <td>sa3008030</td>\n",
       "      <td>0.00</td>\n",
       "      <td>0.00</td>\n",
       "      <td>0.239000</td>\n",
       "      <td>1.000000</td>\n",
       "      <td>0.000000</td>\n",
       "      <td>0.000000</td>\n",
       "      <td>0.270000</td>\n",
       "    </tr>\n",
       "    <tr>\n",
       "      <th>...</th>\n",
       "      <td>...</td>\n",
       "      <td>...</td>\n",
       "      <td>...</td>\n",
       "      <td>...</td>\n",
       "      <td>...</td>\n",
       "      <td>...</td>\n",
       "      <td>...</td>\n",
       "      <td>...</td>\n",
       "      <td>...</td>\n",
       "      <td>...</td>\n",
       "      <td>...</td>\n",
       "    </tr>\n",
       "    <tr>\n",
       "      <th>6447</th>\n",
       "      <td>2021.0</td>\n",
       "      <td>Zach Reks</td>\n",
       "      <td>Dodgers</td>\n",
       "      <td>sa3004166</td>\n",
       "      <td>5.00</td>\n",
       "      <td>0.00</td>\n",
       "      <td>0.301667</td>\n",
       "      <td>158.333333</td>\n",
       "      <td>18.666667</td>\n",
       "      <td>20.333333</td>\n",
       "      <td>0.377333</td>\n",
       "    </tr>\n",
       "    <tr>\n",
       "      <th>6448</th>\n",
       "      <td>2021.0</td>\n",
       "      <td>Zachary Remillard</td>\n",
       "      <td>White Sox</td>\n",
       "      <td>sa659077</td>\n",
       "      <td>4.50</td>\n",
       "      <td>0.00</td>\n",
       "      <td>0.254500</td>\n",
       "      <td>243.000000</td>\n",
       "      <td>21.500000</td>\n",
       "      <td>19.000000</td>\n",
       "      <td>0.307000</td>\n",
       "    </tr>\n",
       "    <tr>\n",
       "      <th>6449</th>\n",
       "      <td>2021.0</td>\n",
       "      <td>Zachary Short</td>\n",
       "      <td>Tigers</td>\n",
       "      <td>sa873287</td>\n",
       "      <td>3.75</td>\n",
       "      <td>1.00</td>\n",
       "      <td>0.311000</td>\n",
       "      <td>150.250000</td>\n",
       "      <td>16.500000</td>\n",
       "      <td>13.750000</td>\n",
       "      <td>0.360000</td>\n",
       "    </tr>\n",
       "    <tr>\n",
       "      <th>6450</th>\n",
       "      <td>2021.0</td>\n",
       "      <td>Zachary Zehner</td>\n",
       "      <td>Yankees</td>\n",
       "      <td>sa829122</td>\n",
       "      <td>0.00</td>\n",
       "      <td>0.00</td>\n",
       "      <td>0.285000</td>\n",
       "      <td>1.000000</td>\n",
       "      <td>0.000000</td>\n",
       "      <td>0.000000</td>\n",
       "      <td>0.347000</td>\n",
       "    </tr>\n",
       "    <tr>\n",
       "      <th>6451</th>\n",
       "      <td>2021.0</td>\n",
       "      <td>Zack Collins</td>\n",
       "      <td>White Sox</td>\n",
       "      <td>19181</td>\n",
       "      <td>8.00</td>\n",
       "      <td>0.75</td>\n",
       "      <td>0.319500</td>\n",
       "      <td>231.250000</td>\n",
       "      <td>26.250000</td>\n",
       "      <td>27.250000</td>\n",
       "      <td>0.371750</td>\n",
       "    </tr>\n",
       "  </tbody>\n",
       "</table>\n",
       "<p>6452 rows × 11 columns</p>\n",
       "</div>"
      ],
      "text/plain": [
       "      season               Name       Team   playerid     HR  NetSB       OBP  \\\n",
       "0     2019.0       A.J. Kennedy     Padres   sa876029   0.00   0.00  0.219000   \n",
       "1     2019.0       A.J. Pollock    Dodgers       9256  20.50  12.25  0.324250   \n",
       "2     2019.0          A.J. Reed     Astros      16246   8.25   0.00  0.297750   \n",
       "3     2019.0        A.J. Simcox     Tigers   sa658901   0.00   0.00  0.270000   \n",
       "4     2019.0      AJ Graffanino     Braves  sa3008030   0.00   0.00  0.239000   \n",
       "...      ...                ...        ...        ...    ...    ...       ...   \n",
       "6447  2021.0          Zach Reks    Dodgers  sa3004166   5.00   0.00  0.301667   \n",
       "6448  2021.0  Zachary Remillard  White Sox   sa659077   4.50   0.00  0.254500   \n",
       "6449  2021.0      Zachary Short     Tigers   sa873287   3.75   1.00  0.311000   \n",
       "6450  2021.0     Zachary Zehner    Yankees   sa829122   0.00   0.00  0.285000   \n",
       "6451  2021.0       Zack Collins  White Sox      19181   8.00   0.75  0.319500   \n",
       "\n",
       "              PA          R        RBI       SLG  \n",
       "0       1.000000   0.000000   0.000000  0.263000  \n",
       "1     543.500000  75.750000  67.500000  0.459250  \n",
       "2     176.500000  22.000000  26.000000  0.419000  \n",
       "3       1.000000   0.000000   0.000000  0.328000  \n",
       "4       1.000000   0.000000   0.000000  0.270000  \n",
       "...          ...        ...        ...       ...  \n",
       "6447  158.333333  18.666667  20.333333  0.377333  \n",
       "6448  243.000000  21.500000  19.000000  0.307000  \n",
       "6449  150.250000  16.500000  13.750000  0.360000  \n",
       "6450    1.000000   0.000000   0.000000  0.347000  \n",
       "6451  231.250000  26.250000  27.250000  0.371750  \n",
       "\n",
       "[6452 rows x 11 columns]"
      ]
     },
     "execution_count": 381,
     "metadata": {},
     "output_type": "execute_result"
    }
   ],
   "source": [
    "\n",
    "proj_mean_h = proj_sys_h.pivot_table(index=[\"season\", \"Name\",'Team','playerid'], values=['PA','OBP','SLG','R','HR','RBI','NetSB'], aggfunc='mean').reset_index()\n",
    "proj_mean_p = proj_sys_p.pivot_table(index=[\"season\", \"Name\",'Team','playerid'], values=['IP','ERA'], aggfunc='mean').reset_index()\n",
    "\n",
    "\n",
    "proj_metrics_h = proj_sys_h.pivot_table(index=[\"season\", \"Name\",'Team','playerid'], columns='system', values=['PA','OBP','SLG','R','HR','RBI','NetSB']).reset_index()\n",
    "col_list = []\n",
    "for x in enumerate(proj_metrics_h.columns.tolist()):\n",
    "    string  = x[1][0]+x[1][1]\n",
    "    col_list.append(string)\n",
    "proj_metrics_h.columns = col_list\n",
    "proj_metrics_h\n",
    "\n",
    "proj_metrics_p = proj_sys_p.pivot_table(index=[\"season\", \"Name\",'Team','playerid'], columns='system', values=['IP','ERA']).reset_index()\n",
    "col_list = []\n",
    "for x in enumerate(proj_metrics_p.columns.tolist()):\n",
    "    string  = x[1][0]+x[1][1]\n",
    "    col_list.append(string)\n",
    "proj_metrics_p.columns = col_list\n",
    "\n",
    "\n",
    "proj_mean_h"
   ]
  },
  {
   "cell_type": "code",
   "execution_count": 233,
   "metadata": {
    "execution": {
     "iopub.execute_input": "2021-02-25T02:17:19.592051Z",
     "iopub.status.busy": "2021-02-25T02:17:19.591814Z",
     "iopub.status.idle": "2021-02-25T02:17:20.472332Z",
     "shell.execute_reply": "2021-02-25T02:17:20.471566Z",
     "shell.execute_reply.started": "2021-02-25T02:17:19.592025Z"
    }
   },
   "outputs": [],
   "source": [
    "master_h = pp.join_tables(fg_h,statcast_h, id_map, fantrax, position_group = 'hitters')\n",
    "master_p = pp.join_tables(fg_p,statcast_p, id_map, fantrax, position_group = 'pitchers')"
   ]
  },
  {
   "cell_type": "code",
   "execution_count": 234,
   "metadata": {
    "execution": {
     "iopub.execute_input": "2021-02-25T02:17:20.473893Z",
     "iopub.status.busy": "2021-02-25T02:17:20.473682Z",
     "iopub.status.idle": "2021-02-25T02:17:20.570962Z",
     "shell.execute_reply": "2021-02-25T02:17:20.570231Z",
     "shell.execute_reply.started": "2021-02-25T02:17:20.473867Z"
    }
   },
   "outputs": [],
   "source": [
    "master_h1 = pp.preliminary_col_reduction(master_h,position_group = 'hitters')\n",
    "master_p1 = pp.preliminary_col_reduction(master_p,position_group = 'pitchers')"
   ]
  },
  {
   "cell_type": "markdown",
   "metadata": {},
   "source": [
    "## Training Data"
   ]
  },
  {
   "cell_type": "code",
   "execution_count": 235,
   "metadata": {
    "execution": {
     "iopub.execute_input": "2021-02-25T02:17:20.572751Z",
     "iopub.status.busy": "2021-02-25T02:17:20.572566Z",
     "iopub.status.idle": "2021-02-25T02:17:29.095982Z",
     "shell.execute_reply": "2021-02-25T02:17:29.095282Z",
     "shell.execute_reply.started": "2021-02-25T02:17:20.572729Z"
    }
   },
   "outputs": [
    {
     "name": "stderr",
     "output_type": "stream",
     "text": [
      "100%|██████████| 7/7 [00:00<00:00, 14.12it/s]\n",
      "100%|██████████| 36/36 [00:04<00:00,  8.69it/s]\n",
      "100%|██████████| 8/8 [00:00<00:00, 23.94it/s]\n",
      "100%|██████████| 43/43 [00:03<00:00, 12.74it/s]\n"
     ]
    }
   ],
   "source": [
    "career_h = pp.gen_career_stats(master_h1, position_group = 'hitters', pt_metric = pt_metric_h)\n",
    "career_p = pp.gen_career_stats(master_p1, position_group = 'pitchers', pt_metric = pt_metric_p)"
   ]
  },
  {
   "cell_type": "code",
   "execution_count": 305,
   "metadata": {
    "execution": {
     "iopub.execute_input": "2021-02-26T03:36:00.615550Z",
     "iopub.status.busy": "2021-02-26T03:36:00.615294Z",
     "iopub.status.idle": "2021-02-26T03:36:05.203969Z",
     "shell.execute_reply": "2021-02-26T03:36:05.203339Z",
     "shell.execute_reply.started": "2021-02-26T03:36:00.615523Z"
    }
   },
   "outputs": [
    {
     "name": "stderr",
     "output_type": "stream",
     "text": [
      "\n",
      "  0%|          | 0/105 [00:00<?, ?it/s]\u001b[A\n",
      " 22%|██▏       | 23/105 [00:00<00:00, 225.97it/s]\u001b[A\n",
      " 43%|████▎     | 45/105 [00:00<00:00, 221.55it/s]\u001b[A\n",
      " 54%|█████▍    | 57/105 [00:00<00:00, 109.62it/s]\u001b[A\n",
      " 76%|███████▌  | 80/105 [00:00<00:00, 129.69it/s]\u001b[A\n",
      "100%|██████████| 105/105 [00:00<00:00, 114.25it/s][A\n",
      "\n",
      "  0%|          | 0/126 [00:00<?, ?it/s]\u001b[A\n",
      " 18%|█▊        | 23/126 [00:00<00:00, 228.12it/s]\u001b[A\n",
      " 38%|███▊      | 48/126 [00:00<00:00, 233.00it/s]\u001b[A\n",
      " 48%|████▊     | 61/126 [00:00<00:00, 138.71it/s]\u001b[A\n",
      " 67%|██████▋   | 85/126 [00:00<00:00, 157.93it/s]\u001b[A\n",
      " 79%|███████▉  | 100/126 [00:00<00:00, 101.00it/s]\u001b[A\n",
      "100%|██████████| 126/126 [00:00<00:00, 143.63it/s]\u001b[A\n"
     ]
    }
   ],
   "source": [
    "master_h2 = pp.feature_engineering(master_h1, career_h, position_group = 'hitters', pt_metric = pt_metric_h)\n",
    "master_p2 = pp.feature_engineering(master_p1, career_p, position_group = 'pitchers', pt_metric = pt_metric_p)"
   ]
  },
  {
   "cell_type": "code",
   "execution_count": 306,
   "metadata": {
    "execution": {
     "iopub.execute_input": "2021-02-26T03:36:05.205388Z",
     "iopub.status.busy": "2021-02-26T03:36:05.205212Z",
     "iopub.status.idle": "2021-02-26T03:36:05.604735Z",
     "shell.execute_reply": "2021-02-26T03:36:05.603921Z",
     "shell.execute_reply.started": "2021-02-26T03:36:05.205366Z"
    }
   },
   "outputs": [],
   "source": [
    "master_h3 = pp.drop_out_of_position(master_h2,position_group = 'hitters')\n",
    "master_p3 = pp.drop_out_of_position(master_p2,position_group = 'pitchers')"
   ]
  },
  {
   "cell_type": "code",
   "execution_count": 307,
   "metadata": {
    "execution": {
     "iopub.execute_input": "2021-02-26T03:36:05.607394Z",
     "iopub.status.busy": "2021-02-26T03:36:05.607175Z",
     "iopub.status.idle": "2021-02-26T03:36:05.828273Z",
     "shell.execute_reply": "2021-02-26T03:36:05.827457Z",
     "shell.execute_reply.started": "2021-02-26T03:36:05.607368Z"
    }
   },
   "outputs": [],
   "source": [
    "master_h4 = pp.limit_years(master_h3,start_year=2015)\n",
    "master_p4 = pp.limit_years(master_p3,start_year=2015)"
   ]
  },
  {
   "cell_type": "code",
   "execution_count": 308,
   "metadata": {
    "execution": {
     "iopub.execute_input": "2021-02-26T03:36:05.830059Z",
     "iopub.status.busy": "2021-02-26T03:36:05.829858Z",
     "iopub.status.idle": "2021-02-26T03:36:06.714218Z",
     "shell.execute_reply": "2021-02-26T03:36:06.713470Z",
     "shell.execute_reply.started": "2021-02-26T03:36:05.830033Z"
    }
   },
   "outputs": [],
   "source": [
    "master_sp4,master_rp4 = pp.split_pitchers(master_p4)"
   ]
  },
  {
   "cell_type": "code",
   "execution_count": 309,
   "metadata": {
    "execution": {
     "iopub.execute_input": "2021-02-26T03:36:06.715774Z",
     "iopub.status.busy": "2021-02-26T03:36:06.715397Z",
     "iopub.status.idle": "2021-02-26T03:36:06.764829Z",
     "shell.execute_reply": "2021-02-26T03:36:06.763299Z",
     "shell.execute_reply.started": "2021-02-26T03:36:06.715742Z"
    }
   },
   "outputs": [],
   "source": [
    "master_h5 = pp.make_targets(master_h4, counting_stats_h, per_metric_h)\n",
    "master_sp5 = pp.make_targets(master_sp4, counting_stats_sp, per_metric_sp)\n",
    "master_rp5 = pp.make_targets(master_rp4, counting_stats_rp, per_metric_rp)"
   ]
  },
  {
   "cell_type": "code",
   "execution_count": 310,
   "metadata": {
    "execution": {
     "iopub.execute_input": "2021-02-26T03:36:06.768120Z",
     "iopub.status.busy": "2021-02-26T03:36:06.767348Z",
     "iopub.status.idle": "2021-02-26T03:36:06.893009Z",
     "shell.execute_reply": "2021-02-26T03:36:06.892276Z",
     "shell.execute_reply.started": "2021-02-26T03:36:06.768085Z"
    }
   },
   "outputs": [],
   "source": [
    "master_h6 = pp.organize_training_columns(master_h5,position_group='hitters')\n",
    "master_sp6 = pp.organize_training_columns(master_sp5,position_group='SP')\n",
    "master_rp6 = pp.organize_training_columns(master_rp5,position_group='RP')"
   ]
  },
  {
   "cell_type": "code",
   "execution_count": 311,
   "metadata": {
    "execution": {
     "iopub.execute_input": "2021-02-26T03:36:06.894473Z",
     "iopub.status.busy": "2021-02-26T03:36:06.894250Z",
     "iopub.status.idle": "2021-02-26T03:36:06.959220Z",
     "shell.execute_reply": "2021-02-26T03:36:06.958542Z",
     "shell.execute_reply.started": "2021-02-26T03:36:06.894444Z"
    }
   },
   "outputs": [],
   "source": [
    "master_h7 = pp.remove_missing(master_h6,position_group='hitters')\n",
    "master_sp7 = pp.remove_missing(master_sp6,position_group='SP')\n",
    "master_rp7 = pp.remove_missing(master_rp6,position_group='RP')"
   ]
  },
  {
   "cell_type": "code",
   "execution_count": 312,
   "metadata": {
    "execution": {
     "iopub.execute_input": "2021-02-26T03:36:06.962772Z",
     "iopub.status.busy": "2021-02-26T03:36:06.962532Z",
     "iopub.status.idle": "2021-02-26T03:36:11.404549Z",
     "shell.execute_reply": "2021-02-26T03:36:11.403825Z",
     "shell.execute_reply.started": "2021-02-26T03:36:06.962744Z"
    }
   },
   "outputs": [],
   "source": [
    "master_h7.to_csv('data/processed/hitters/'+str(season)+'/modeling.csv')\n",
    "master_sp7.to_csv('data/processed/SP/'+str(season)+'/modeling.csv')\n",
    "master_rp7.to_csv('data/processed/RP/'+str(season)+'/modeling.csv')"
   ]
  },
  {
   "cell_type": "markdown",
   "metadata": {
    "execution": {
     "iopub.execute_input": "2021-02-25T03:21:17.482164Z",
     "iopub.status.busy": "2021-02-25T03:21:17.481912Z",
     "iopub.status.idle": "2021-02-25T03:21:17.512179Z",
     "shell.execute_reply": "2021-02-25T03:21:17.511316Z",
     "shell.execute_reply.started": "2021-02-25T03:21:17.482136Z"
    }
   },
   "source": [
    "## Scoring Data"
   ]
  },
  {
   "cell_type": "code",
   "execution_count": null,
   "metadata": {},
   "outputs": [],
   "source": []
  },
  {
   "cell_type": "code",
   "execution_count": null,
   "metadata": {},
   "outputs": [],
   "source": []
  },
  {
   "cell_type": "code",
   "execution_count": null,
   "metadata": {},
   "outputs": [],
   "source": []
  },
  {
   "cell_type": "code",
   "execution_count": null,
   "metadata": {},
   "outputs": [],
   "source": []
  },
  {
   "cell_type": "code",
   "execution_count": null,
   "metadata": {},
   "outputs": [],
   "source": []
  }
 ],
 "metadata": {
  "kernelspec": {
   "display_name": "Python 3",
   "language": "python",
   "name": "python3"
  },
  "language_info": {
   "codemirror_mode": {
    "name": "ipython",
    "version": 3
   },
   "file_extension": ".py",
   "mimetype": "text/x-python",
   "name": "python",
   "nbconvert_exporter": "python",
   "pygments_lexer": "ipython3",
   "version": "3.7.7"
  }
 },
 "nbformat": 4,
 "nbformat_minor": 4
}
